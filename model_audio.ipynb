{
 "cells": [
  {
   "cell_type": "code",
   "execution_count": 1,
   "metadata": {},
   "outputs": [],
   "source": [
    "import numpy as np\n",
    "import pandas as pd\n",
    "\n",
    "import tensorflow as tf\n",
    "from tensorflow.python import keras\n",
    "from tensorflow.python.keras import layers\n",
    "from tensorflow.python.keras.wrappers.scikit_learn import KerasClassifier\n",
    "from sklearn.preprocessing import StandardScaler\n",
    "from sklearn.model_selection import StratifiedShuffleSplit\n",
    "from sklearn.metrics import confusion_matrix, accuracy_score"
   ]
  },
  {
   "cell_type": "code",
   "execution_count": 2,
   "metadata": {},
   "outputs": [
    {
     "data": {
      "text/plain": [
       "ID              TRIQYKR128F931D388\n",
       "Danceability                 0.467\n",
       "Acousticness                   0.2\n",
       "Energy                       0.244\n",
       "Loudness                   -14.588\n",
       "Tempo                      123.884\n",
       "Valence                      0.223\n",
       "Category                     happy\n",
       "Name: 0, dtype: object"
      ]
     },
     "execution_count": 2,
     "metadata": {},
     "output_type": "execute_result"
    }
   ],
   "source": [
    "dataset_path = 'dataset.csv'\n",
    "column_names = ['ID', 'Danceability', 'Acousticness', 'Energy', 'Loudness', 'Tempo', 'Valence', 'Category']\n",
    "\n",
    "raw_dataset = pd.read_csv(dataset_path, names=column_names, na_values = \"?\", comment='\\t', skipinitialspace=True)\n",
    "dataset = raw_dataset.copy()\n",
    "dataset.iloc[0]"
   ]
  },
  {
   "cell_type": "code",
   "execution_count": 3,
   "metadata": {},
   "outputs": [
    {
     "data": {
      "text/plain": [
       "4    3115\n",
       "2    2297\n",
       "1     868\n",
       "0     531\n",
       "3     386\n",
       "Name: Label, dtype: int64"
      ]
     },
     "execution_count": 3,
     "metadata": {},
     "output_type": "execute_result"
    }
   ],
   "source": [
    "dataset.Category = pd.Categorical(dataset.Category)\n",
    "dataset['Label'] = dataset.Category.cat.codes\n",
    "\n",
    "dataset.Label.value_counts()"
   ]
  },
  {
   "cell_type": "code",
   "execution_count": 4,
   "metadata": {},
   "outputs": [
    {
     "data": {
      "text/plain": [
       "(7197, 6)"
      ]
     },
     "execution_count": 4,
     "metadata": {},
     "output_type": "execute_result"
    }
   ],
   "source": [
    "model_variables = ['Danceability', 'Acousticness', 'Energy', 'Loudness', 'Tempo', 'Valence', 'Label']\n",
    "\n",
    "dataset_relevant = dataset[model_variables]\n",
    "dataset_relevant_encoded = pd.get_dummies(dataset_relevant)\n",
    "\n",
    "training_features = dataset_relevant_encoded.drop(['Label'], axis=1)\n",
    "training_target = dataset_relevant_encoded['Label']\n",
    "\n",
    "std = StandardScaler()\n",
    "train_dataset = std.fit_transform(training_features)\n",
    "\n",
    "train_dataset.shape"
   ]
  },
  {
   "cell_type": "code",
   "execution_count": 5,
   "metadata": {},
   "outputs": [],
   "source": [
    "def baseline_model():\n",
    "    model = keras.Sequential([\n",
    "        layers.Dense(128, input_dim=6, activation=tf.nn.relu),\n",
    "        layers.BatchNormalization(),\n",
    "        layers.Dropout(0.5),\n",
    "        layers.Dense(64, activation=tf.nn.relu),\n",
    "        layers.BatchNormalization(),\n",
    "        layers.Dropout(0.5),\n",
    "        layers.Dense(64, activation=tf.nn.relu),\n",
    "        layers.Dense(5, activation=tf.nn.softmax),\n",
    "    ])\n",
    "\n",
    "    model.compile(optimizer='adam', \n",
    "                  loss='sparse_categorical_crossentropy',\n",
    "                  metrics=['accuracy'])\n",
    "    return model\n"
   ]
  },
  {
   "cell_type": "code",
   "execution_count": 6,
   "metadata": {},
   "outputs": [
    {
     "name": "stdout",
     "output_type": "stream",
     "text": [
      "WARNING:tensorflow:From /home/harryroxas/venv/lib/python3.6/site-packages/tensorflow/python/keras/_impl/keras/backend.py:1422: calling reduce_max (from tensorflow.python.ops.math_ops) with keep_dims is deprecated and will be removed in a future version.\n",
      "Instructions for updating:\n",
      "keep_dims is deprecated, use keepdims instead\n",
      "0.5944444444444444\n",
      "[[  0  14  25   0  67]\n",
      " [  0  84  48   0  42]\n",
      " [  0  27 301   0 132]\n",
      " [  0   2   8   0  67]\n",
      " [  0  31 121   0 471]]\n"
     ]
    }
   ],
   "source": [
    "estimator = KerasClassifier(build_fn=baseline_model, epochs=100, batch_size=128, verbose=0)\n",
    "kfold = StratifiedShuffleSplit(n_splits=5, test_size=0.2, random_state=7)\n",
    "\n",
    "for train_index, test_index in kfold.split(train_dataset, training_target):\n",
    "    X_tr, X_tes = train_dataset[train_index], train_dataset[test_index]\n",
    "    y_tr, y_tes = training_target[train_index], training_target[test_index]\n",
    "    estimator.fit(X_tr, y_tr) \n",
    "\n",
    "    y_pred=estimator.predict(X_tes)\n",
    "    acc = accuracy_score(y_tes, y_pred)\n",
    "    cnf_matrix = confusion_matrix(y_tes, y_pred)\n",
    "    print(acc)\n",
    "    print(cnf_matrix)"
   ]
  },
  {
   "cell_type": "code",
   "execution_count": null,
   "metadata": {},
   "outputs": [],
   "source": []
  }
 ],
 "metadata": {
  "kernelspec": {
   "display_name": "Python 3",
   "language": "python",
   "name": "python3"
  },
  "language_info": {
   "codemirror_mode": {
    "name": "ipython",
    "version": 3
   },
   "file_extension": ".py",
   "mimetype": "text/x-python",
   "name": "python",
   "nbconvert_exporter": "python",
   "pygments_lexer": "ipython3",
   "version": "3.6.7"
  }
 },
 "nbformat": 4,
 "nbformat_minor": 2
}
